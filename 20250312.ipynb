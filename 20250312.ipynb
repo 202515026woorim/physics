{
  "nbformat": 4,
  "nbformat_minor": 0,
  "metadata": {
    "colab": {
      "provenance": [],
      "authorship_tag": "ABX9TyP0Y4hijXzhVWv/zcz4h88u",
      "include_colab_link": true
    },
    "kernelspec": {
      "name": "python3",
      "display_name": "Python 3"
    },
    "language_info": {
      "name": "python"
    }
  },
  "cells": [
    {
      "cell_type": "markdown",
      "metadata": {
        "id": "view-in-github",
        "colab_type": "text"
      },
      "source": [
        "<a href=\"https://colab.research.google.com/github/202515026woorim/physics/blob/20250312/20250312.ipynb\" target=\"_parent\"><img src=\"https://colab.research.google.com/assets/colab-badge.svg\" alt=\"Open In Colab\"/></a>"
      ]
    },
    {
      "cell_type": "code",
      "execution_count": 3,
      "metadata": {
        "id": "1aJcS54_b-MK"
      },
      "outputs": [],
      "source": [
        "import math #수학 함수를 사용하기 위해서 라이브러리 추가"
      ]
    },
    {
      "cell_type": "code",
      "source": [
        "angle_degree = 30\n",
        "\n",
        "angle_radian = angle_degree * math.pi / 180\n",
        "\n",
        "print(\"angle_degree: \", angle_radian)"
      ],
      "metadata": {
        "colab": {
          "base_uri": "https://localhost:8080/"
        },
        "id": "2gAdDF7mcmLZ",
        "outputId": "b7625c86-2752-4faf-d77d-f317cd87c2f6"
      },
      "execution_count": 4,
      "outputs": [
        {
          "output_type": "stream",
          "name": "stdout",
          "text": [
            "angle_degree:  0.5235987755982988\n"
          ]
        }
      ]
    },
    {
      "cell_type": "code",
      "source": [
        "math.cos(angle_radian)"
      ],
      "metadata": {
        "colab": {
          "base_uri": "https://localhost:8080/"
        },
        "id": "m1TjvGi1cqLM",
        "outputId": "a1826221-3f70-4db7-d383-331e475deb69"
      },
      "execution_count": 5,
      "outputs": [
        {
          "output_type": "execute_result",
          "data": {
            "text/plain": [
              "0.8660254037844387"
            ]
          },
          "metadata": {},
          "execution_count": 5
        }
      ]
    },
    {
      "cell_type": "code",
      "source": [
        "math.sin(angle_radian)"
      ],
      "metadata": {
        "colab": {
          "base_uri": "https://localhost:8080/"
        },
        "id": "h0n6x61Fcr6-",
        "outputId": "33d120db-05ea-46e3-c736-0347f1df45a1"
      },
      "execution_count": 6,
      "outputs": [
        {
          "output_type": "execute_result",
          "data": {
            "text/plain": [
              "0.49999999999999994"
            ]
          },
          "metadata": {},
          "execution_count": 6
        }
      ]
    },
    {
      "cell_type": "code",
      "source": [
        "math.tan(angle_radian)"
      ],
      "metadata": {
        "colab": {
          "base_uri": "https://localhost:8080/"
        },
        "id": "1fel8Tb_ct__",
        "outputId": "225e0559-8486-4605-f260-b2144bc0516f"
      },
      "execution_count": 7,
      "outputs": [
        {
          "output_type": "execute_result",
          "data": {
            "text/plain": [
              "0.5773502691896257"
            ]
          },
          "metadata": {},
          "execution_count": 7
        }
      ]
    },
    {
      "cell_type": "code",
      "source": [
        "x, y = 1.0, 2.0"
      ],
      "metadata": {
        "id": "lkvyuUWCcxKN"
      },
      "execution_count": 8,
      "outputs": []
    },
    {
      "cell_type": "code",
      "source": [
        "r = math.sqrt(x**2 + y**2)\n",
        "theta_raidan = math.atan2(y, x)\n",
        "\n",
        "print(r, theta_raidan)"
      ],
      "metadata": {
        "colab": {
          "base_uri": "https://localhost:8080/"
        },
        "id": "-CbbKuZ5czhu",
        "outputId": "b940b9cb-fa81-40d1-ef09-590e0f9c847f"
      },
      "execution_count": 9,
      "outputs": [
        {
          "output_type": "stream",
          "name": "stdout",
          "text": [
            "2.23606797749979 1.1071487177940904\n"
          ]
        }
      ]
    },
    {
      "cell_type": "code",
      "source": [
        "r= 10\n",
        "angle_degree= 30"
      ],
      "metadata": {
        "id": "dJtEn9xgc3yl"
      },
      "execution_count": 12,
      "outputs": []
    },
    {
      "cell_type": "code",
      "source": [
        "x = r * math.cos(angle_radian)\n",
        "y = r * math.sin(angle_radian)\n",
        "\n",
        "print(x ,y)"
      ],
      "metadata": {
        "colab": {
          "base_uri": "https://localhost:8080/"
        },
        "id": "Lue602tbc5S2",
        "outputId": "206ebd22-8583-4dbb-be62-4e6658511a0d"
      },
      "execution_count": 11,
      "outputs": [
        {
          "output_type": "stream",
          "name": "stdout",
          "text": [
            "8.660254037844387 4.999999999999999\n"
          ]
        }
      ]
    }
  ]
}